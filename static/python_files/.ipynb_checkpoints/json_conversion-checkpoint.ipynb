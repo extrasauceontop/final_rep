{
 "cells": [
  {
   "cell_type": "code",
   "execution_count": 12,
   "metadata": {},
   "outputs": [],
   "source": [
    "import pandas as pd\n",
    "import json"
   ]
  },
  {
   "cell_type": "code",
   "execution_count": 13,
   "metadata": {},
   "outputs": [],
   "source": [
    "df = pd.read_csv(\"../data/island_info.csv\")\n",
    "df = df.set_index(\"Island_Name\")\n",
    "\n",
    "json_object = df.to_json(orient='index')\n",
    "\n",
    "with open('../data/island_info.json', 'w') as output_file:\n",
    "    json.dump(json_object, output_file)"
   ]
  },
  {
   "cell_type": "code",
   "execution_count": 19,
   "metadata": {},
   "outputs": [],
   "source": [
    "df = pd.read_csv(\"../data/Homicide_Rate.csv\")\n",
    "df = df.set_index(\"Country\")\n",
    "\n",
    "json_object = df.to_json(orient='index')\n",
    "\n",
    "with open('../data/homicide_rate.json', 'w') as output_file:\n",
    "    json.dump(json_object, output_file)"
   ]
  },
  {
   "cell_type": "code",
   "execution_count": 32,
   "metadata": {},
   "outputs": [],
   "source": [
    "df = pd.read_csv('../data/Cleaned_Corruption.csv')\n",
    "df = df.set_index(\"Country\")\n",
    "\n",
    "json_object = df.to_json(orient='index')\n",
    "\n",
    "with open('../data/Cleaned_Corruption.json', 'w') as output_file:\n",
    "    json.dump(json_object, output_file)"
   ]
  },
  {
   "cell_type": "code",
   "execution_count": null,
   "metadata": {},
   "outputs": [],
   "source": []
  }
 ],
 "metadata": {
  "kernelspec": {
   "display_name": "Python [conda env:pythondata] *",
   "language": "python",
   "name": "conda-env-pythondata-py"
  },
  "language_info": {
   "codemirror_mode": {
    "name": "ipython",
    "version": 3
   },
   "file_extension": ".py",
   "mimetype": "text/x-python",
   "name": "python",
   "nbconvert_exporter": "python",
   "pygments_lexer": "ipython3",
   "version": "3.6.9"
  }
 },
 "nbformat": 4,
 "nbformat_minor": 2
}
